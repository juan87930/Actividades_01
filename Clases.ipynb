{
  "nbformat": 4,
  "nbformat_minor": 0,
  "metadata": {
    "kernelspec": {
      "display_name": "Python 3",
      "language": "python",
      "name": "python3"
    },
    "language_info": {
      "codemirror_mode": {
        "name": "ipython",
        "version": 3
      },
      "file_extension": ".py",
      "mimetype": "text/x-python",
      "name": "python",
      "nbconvert_exporter": "python",
      "pygments_lexer": "ipython3",
      "version": "3.8.2"
    },
    "colab": {
      "name": "Clases.ipynb",
      "provenance": [],
      "collapsed_sections": []
    }
  },
  "cells": [
    {
      "cell_type": "markdown",
      "metadata": {
        "id": "awbU-MZaWi0o"
      },
      "source": [
        "# 2. Clases"
      ]
    },
    {
      "cell_type": "markdown",
      "metadata": {
        "id": "RlryBGOCWi0q"
      },
      "source": [
        "## 2.1 Introducción\n",
        "Programación Orientada Objetos es uno de los paradigmas más efectivos al momento de querer desarrollar algún tipo de software.En este pardigma se desarrollan *clases* que que representan cosas y/o situaciones, y de las clases se derivan los objetos.\n",
        "\n",
        "Cuando se desarrola una clase, se define de manera general el comportamiento de toda una gama de objetos relacionados a la semántica.\n",
        "\n",
        "Cuando se declara o define un objeto de una clase, cada objeto es equpado de manera automática con el comportamiento general de la clase, después se puede ir defiendo de manera más dellada el objeto. \n",
        "\n",
        "Cuando se dice que se *crea una instancia de una clase* se hace referencia a la creación de un objeto derivado de una clase en particular, y dentro del programa principal se trabaja con la instancia, no con la clase tal cual. "
      ]
    },
    {
      "cell_type": "markdown",
      "metadata": {
        "id": "eSRi0I0NWi0q"
      },
      "source": [
        "## 2.2 Creando y usando una clase\n",
        "\n",
        "Se puede modelar casi cualquier cosa utilizando clases. En esta sección comenzaremos a definir una clase `Perro` que  describa a cualquier tipo de perro, ninguno en particular. Inicialmente se considerarán sólo dos campos el `Nombre` y la `Edad`, ya que en cualquier mascota perro son comunes. Una vez definida la clase se mostrará la forma de poder generar dos instancias (objetos) de esta clase. Se definirán dos acciones `Sentarse` y `Rodar`. \n",
        "\n",
        "### 2.2.1 Creando la clase perro\n",
        "Cada instancia creada de la clase `Perro` deberá tener un `Nombre` y la `Edad`, observe la siguiente celda."
      ]
    },
    {
      "cell_type": "code",
      "metadata": {
        "id": "3r7ZIovcWi0r"
      },
      "source": [
        "class Perro():\n",
        "    \"\"\"Un modelo muy abstacto de un Perro\"\"\"\n",
        "    \n",
        "    def __init__(self,Nombre,Edad):\n",
        "        \"\"\"Inicializa los atributos de Nombre y Edad\"\"\"\n",
        "        self.Nombre = Nombre\n",
        "        self.Edad = Edad\n",
        "        \n",
        "    def Sentarse(self):\n",
        "        \"\"\"Simula a un perro sentarse después de que se le da orden\"\"\"\n",
        "        print(self.Nombre.title() + \" está sentado.\")\n",
        "        \n",
        "    def Rodar(self):\n",
        "        \"\"\"Simula a un perro rodarse en el piso después que se le da la orden\"\"\"\n",
        "        print(self.Nombre.title() + \" está rodando.\")"
      ],
      "execution_count": null,
      "outputs": []
    },
    {
      "cell_type": "markdown",
      "metadata": {
        "id": "t6Soz6tLWi0v"
      },
      "source": [
        "Hay muchos elementos que se deben de analizar con detalle, observe que la sintaxis para definir una clase es \n",
        "\n",
        "`class <Nombre_clase>():`\n",
        "\n",
        "donde `Nombre_clase` es el nombre de la clase, observe que las siguientes líneas debn de estar indentadas ya que así lo pide python para el alcance de las funciones y de las variables. \n",
        "\n",
        "Se pueden visualizar tres funciones dentro de la clase y todas ellas tienen como argumeto `self` que implica que éstas funciones pertenecen a la estructura de la clase. observe que los comportamientos `Sentarse(self)` y `Rodar(self)` son comportamientos o clases que se definen por el usuario, a éstas funciones se le conocen como **METODOS** y son definidos completamente por el usuario. \n",
        "\n",
        "La primer función `def __init__(self,Nombre,Edad)` se le conoce como constructor, observe que tiene los campos de Nombre y Edad, que son los campos que se habían considerando comunes entre los perros, observe que dentro de esa función hay dos elementos `self.Nombre` y `self.Edad`, a estos elementos se le conocen como atributos y y deben de llevar el prefijo `self.` ya esta directiva indica que son elementos propios de la clase. \n"
      ]
    },
    {
      "cell_type": "markdown",
      "metadata": {
        "id": "eETE5e-eWi0w"
      },
      "source": [
        "### 2.2.2 Creando una instancia de una clase\n",
        "Una clase puede ser vidat como un conjunto de instrucciones para realizar un objet. La clase `Perro` es un conjutno de instrucciones que le indica a Python coo crear instancias indiiduales que representen perros de forma general.\n",
        "\n",
        "En la siguiente celda se muestra la manera de hacer un perro específico pero basádonos en la clase `Perro`\n"
      ]
    },
    {
      "cell_type": "code",
      "metadata": {
        "id": "twlgdvMCWi0x",
        "outputId": "13f873a8-6846-4c1d-bf31-e6f852cb5b23",
        "colab": {
          "base_uri": "https://localhost:8080/"
        }
      },
      "source": [
        "mi_perro = Perro('Orejas',7)\n",
        "print(\"El nombre de mi perro es \" + mi_perro.Nombre.title() + \".\")\n",
        "print(\"La edad de mi perro es \" + str(mi_perro.Edad) + \" anios.\")"
      ],
      "execution_count": null,
      "outputs": [
        {
          "output_type": "stream",
          "text": [
            "El nombre de mi perro es Orejas.\n",
            "La edad de mi perro es 7 anios.\n"
          ],
          "name": "stdout"
        }
      ]
    },
    {
      "cell_type": "markdown",
      "metadata": {
        "id": "UniM8WKQWi00"
      },
      "source": [
        "En la línea 1 de la celda anterior, se genera un objeto de la clase `Perro` y manda a llamar al constructor, el string `'Orejas'` lo asigna a attibuto `self.Nombre`, mientras que el número `7` lo asigna al atributo `self.Edad`. \n",
        "\n",
        "### 2.2.3 Accediendo a atributos y métodos\n",
        "\n",
        "Observe que en la anterior en la línea 2 y 3 se está accediendo a los atributos de una clase, para esto se debe de tener en cueta el nombre de la instancia (objeto), que en este caso es `mi_perro` y después se debe de poner el nombre del atributo acompañado previamente de un `.` De tal manera que con `mi_perro.Edad` se está accediendo al atributo de Edad.\n",
        "\n",
        "De la misma manera se puede acceder a los métodos de una clase, de tal forma que si se utiliza la instrucción `mi_perro.Sentarse()` se estaría invocando el método sentarse propio de la clase `Perro` como se muestra en la siguiente celda.\n"
      ]
    },
    {
      "cell_type": "code",
      "metadata": {
        "id": "FFgdj2gpWi01",
        "outputId": "6c4b4344-d4a9-4cd6-9a7f-89b7c36a5fb4",
        "colab": {
          "base_uri": "https://localhost:8080/"
        }
      },
      "source": [
        "mi_perro = Perro('Orejas',7)\n",
        "print(\"El nombre de mi perro es \" + mi_perro.Nombre.title() + \".\")\n",
        "print(\"La edad de mi perro es \" + str(mi_perro.Edad) + \" anios.\")\n",
        "\n",
        "mi_perro.Sentarse()\n",
        "mi_perro.Rodar()"
      ],
      "execution_count": null,
      "outputs": [
        {
          "output_type": "stream",
          "text": [
            "El nombre de mi perro es Orejas.\n",
            "La edad de mi perro es 7 anios.\n",
            "Orejas está sentado.\n",
            "Orejas está rodando.\n"
          ],
          "name": "stdout"
        }
      ]
    },
    {
      "cell_type": "markdown",
      "metadata": {
        "id": "uhWi4PqcWi06"
      },
      "source": [
        "### 2.2.4 Creando múltiples instancias.\n",
        "Se pueden crear tantas instancias como lo desee de una sóla clase, la única condición que debe de tener en cuenta es que los nombres de las instancias deben de ser distantas aunque los atributos que sean iguales, observe la siguente celda.\n"
      ]
    },
    {
      "cell_type": "code",
      "metadata": {
        "scrolled": true,
        "id": "bk39n6FsWi06",
        "outputId": "fa6d4203-7185-4375-ac35-18c620b5539e",
        "colab": {
          "base_uri": "https://localhost:8080/"
        }
      },
      "source": [
        "mi_perro = Perro('Orejas',7)\n",
        "tu_perro = Perro('Bony',8)\n",
        "\n",
        "print(\"El nombre de mi perro es: \" + mi_perro.Nombre.title())\n",
        "print(mi_perro.Nombre.title() + \" tiene \" + str(mi_perro.Edad) + \" anios de edad.\")\n",
        "print(\"\\n\")\n",
        "\n",
        "print(\"El nombre de tu perro es: \" + tu_perro.Nombre.title())\n",
        "print(tu_perro.Nombre.title() + \" tiene \" + str(tu_perro.Edad) + \" anios de edad.\")"
      ],
      "execution_count": null,
      "outputs": [
        {
          "output_type": "stream",
          "text": [
            "El nombre de mi perro es: Orejas\n",
            "Orejas tiene 7 anios de edad.\n",
            "\n",
            "\n",
            "El nombre de tu perro es: Bony\n",
            "Bony tiene 8 anios de edad.\n"
          ],
          "name": "stdout"
        }
      ]
    },
    {
      "cell_type": "markdown",
      "metadata": {
        "id": "NnosOzbhWi09"
      },
      "source": [
        "## 2.3 Ejercicios\n",
        "\n",
        "1. **Restaurante:** a) Crear una clase llamada `Restaurant`. El método `__init__()` debe de aceptar dos atributos: El `nombre_restaurant` y el `tipo_cocina`.b) Crear un método que se llame `describe_restaurant` que imprima: *El nombre del restaurant es: ------* y *El tipo de comida que se sirve es: -------*. c) Generar\n",
        "2. **Tres Restaurantes:** Crear tres restaurantes utilizando la clase que se ha definido con anterioridad y llame al método `describe_restaurant` para cada instancia de la clase. \n",
        "3. **Usuarios:** a) Cree una clase que se llame `Usuario`. b)Cree dos atributos llamados `Nombre` y `Apellido`, agregue atributos como `CURP`,`Fecha_Nacimiento`, `Sexo`, `Grado_estudios`. c)Genere un método llamado `Saluda_usuario` y que despliegue en pantalla algo como *Hola Juan Ruiz de Alarcón*. d)Genere un método que se llame `Describe_usuario` y que muestre toda la información del usuario. e)Genere 5 objetos tipo usuario y ejecute los dos métodos anteriormente descritos."
      ]
    },
    {
      "cell_type": "code",
      "metadata": {
        "id": "7yg22lciaGxI",
        "outputId": "8cfd3a3a-41bb-49eb-889b-37699fdd7381",
        "colab": {
          "base_uri": "https://localhost:8080/"
        }
      },
      "source": [
        " class Restaurant():\n",
        "\n",
        "    def __init__(self,Nombre,Tipococina):\n",
        "      self.Nombre=Nombre \n",
        "      self.Tipococina=Tipococina\n",
        "\n",
        "    def describe_restaurant(self): \n",
        "      print(\"El nombre del restaurant es \" + self.Nombre.title() + \" y el tipo de comida que se sirve es \" + self.Tipococina.title() + \".\" )\n",
        "\n",
        "restaurant_1 = Restaurant(\" Los Compaches \",\"La casa \")\n",
        "restaurant_1.describe_restaurant()"
      ],
      "execution_count": null,
      "outputs": [
        {
          "output_type": "stream",
          "text": [
            "El nombre del restaurant es  Los Compaches  y el tipo de comida que se sirve es La Casa .\n"
          ],
          "name": "stdout"
        }
      ]
    },
    {
      "cell_type": "code",
      "metadata": {
        "id": "jzwVkfiSMarQ",
        "outputId": "ca25553d-77ea-471a-aa53-ed385353ce3d",
        "colab": {
          "base_uri": "https://localhost:8080/"
        }
      },
      "source": [
        "#####ejercicio 2### \n",
        "\"\"\"Tres restaurantes\"\"\" \n",
        "restaurant_1 = Restaurant(\"Los compaches \",\"la casa\")\n",
        "restaurant_2 = Restaurant(\"El guero \",\"La mexicana\" )\n",
        "restaurant_3 = Restaurant(\"El sol \",\"El pepe\")\n",
        "\n",
        "restaurant_1.describe_restaurant()\n",
        "restaurant_2.describe_restaurant()\n",
        "restaurant_3.describe_restaurant()"
      ],
      "execution_count": null,
      "outputs": [
        {
          "output_type": "stream",
          "text": [
            "El nombre del restaurant es Los Compaches  y el tipo de comida que se sirve es La Casa.\n",
            "El nombre del restaurant es El Guero  y el tipo de comida que se sirve es La Mexicana.\n",
            "El nombre del restaurant es El Sol  y el tipo de comida que se sirve es El Pepe.\n"
          ],
          "name": "stdout"
        }
      ]
    },
    {
      "cell_type": "code",
      "metadata": {
        "id": "KaT8cIbHNcwp",
        "outputId": "dcfa3308-e585-4cc4-a1c5-d14402d32743",
        "colab": {
          "base_uri": "https://localhost:8080/"
        }
      },
      "source": [
        "\"\"\" Usuarios \"\"\"\n",
        "class usuario(): \n",
        "    def __init__(self,Nombre,Apellido,Edad,Curp,Sexo,Estudios):\n",
        "      self.Nombre=Nombre\n",
        "      self.Apellido=Apellido\n",
        "      self.Edad=Edad\n",
        "      self.Curp=Curp\n",
        "      self.Sexo=Sexo\n",
        "      self.Estudios=Estudios\n",
        "\n",
        "    def saluda_usuario(self):\n",
        "      print(\"Hola \"+ self.Nombre.title() + \" \" + self.Apellido.title() + \".\")\n",
        "    \n",
        "    def describe_usuario(self):\n",
        "      print(\"Sus datos son los siguientes: \")\n",
        "      print(\"Nombre: \" + self.Nombre + \" \" + self.Apellido)\n",
        "      print(\"Edad: \" + str(self.Edad) + \" Años\")\n",
        "      print(\"Curp: \" + self.Curp )\n",
        "      print(\"Sexo: \" + self.Sexo )\n",
        "      print(\"Grado De Estudios: \" + self.Estudios )\n",
        "      print(\"\\n\")\n",
        "\n",
        "usuario_1=usuario(\"Juan\",\"Gonzalez\",20,\"JGG000EJRINVDKNFDKS\", \"Hombre\",\"Licenciatura\")\n",
        "usuario_2=usuario(\"Tzoali\", \"Romero\", 20, \"TRH0000NJBNDSFDFN\", \"Mujer\", \"Licenciatura\")\n",
        "usuario_3=usuario(\"Gonzalo\", \"Gonzalez\", 22, \"GGG000JHDJKFNDF\", \"Hombre\", \"Licenciatura\")\n",
        "usuario_4=usuario(\"Antonio\", \"Gonzalez \", 57, \"AGG002JNDFJDSFN\", \"Hombre\", \"Licenciatura\")\n",
        "usuario_5=usuario(\"Michel\", \"Gonzalez \", 20, \"MGG20090NJDSNVJD\", \"Mujer\", \"Licenciatura\")\n",
        "usuario_1.describe_usuario()\n",
        "usuario_2.describe_usuario()\n",
        "usuario_3.describe_usuario()\n",
        "usuario_4.describe_usuario()\n",
        "usuario_5.describe_usuario()"
      ],
      "execution_count": null,
      "outputs": [
        {
          "output_type": "stream",
          "text": [
            "Sus datos son los siguientes: \n",
            "Nombre: Juan Gonzalez\n",
            "Edad: 20 Años\n",
            "Curp: JGG000EJRINVDKNFDKS\n",
            "Sexo: Hombre\n",
            "Grado De Estudios: Licenciatura\n",
            "\n",
            "\n",
            "Sus datos son los siguientes: \n",
            "Nombre: Tzoali Romero\n",
            "Edad: 20 Años\n",
            "Curp: TRH0000NJBNDSFDFN\n",
            "Sexo: Mujer\n",
            "Grado De Estudios: Licenciatura\n",
            "\n",
            "\n",
            "Sus datos son los siguientes: \n",
            "Nombre: Gonzalo Gonzalez\n",
            "Edad: 22 Años\n",
            "Curp: GGG000JHDJKFNDF\n",
            "Sexo: Hombre\n",
            "Grado De Estudios: Licenciatura\n",
            "\n",
            "\n",
            "Sus datos son los siguientes: \n",
            "Nombre: Antonio Gonzalez \n",
            "Edad: 57 Años\n",
            "Curp: AGG002JNDFJDSFN\n",
            "Sexo: Hombre\n",
            "Grado De Estudios: Licenciatura\n",
            "\n",
            "\n",
            "Sus datos son los siguientes: \n",
            "Nombre: Michel Gonzalez \n",
            "Edad: 20 Años\n",
            "Curp: MGG20090NJDSNVJD\n",
            "Sexo: Mujer\n",
            "Grado De Estudios: Licenciatura\n",
            "\n",
            "\n"
          ],
          "name": "stdout"
        }
      ]
    },
    {
      "cell_type": "markdown",
      "metadata": {
        "id": "HNOZ-oZMWi0-"
      },
      "source": [
        "## 2.4 Trabajando con Clases e instancias\n",
        "\n",
        "### 2.4.1 Introducción\n",
        "Una vez que se desarrollado la clase, la mayor parte del tiempo se trabaja con las instancias de la clase más que con la clase misma. Es necesario saber cómo acceder a los atributos , esto se puede hacer de manera directa o indirecta. \n",
        "\n",
        "Observe la siguiente celda de código, donde se presenta una clase tipo `Carro`"
      ]
    },
    {
      "cell_type": "code",
      "metadata": {
        "id": "DFxxTtuiWi0_",
        "outputId": "0e936eef-030f-491f-aad6-9a5007191e84",
        "colab": {
          "base_uri": "https://localhost:8080/"
        }
      },
      "source": [
        "class Carro():\n",
        "    \"\"\"Clase carro\"\"\"\n",
        "    \n",
        "    def __init__(self, modelo, marca, anio):\n",
        "        \"\"\"Inicializa los atributos del carro\"\"\"\n",
        "        self.marca = marca\n",
        "        self.modelo = modelo\n",
        "        self.anio = anio\n",
        "    \n",
        "    def Describe_Carro(self):\n",
        "        \"\"\"Imprime la descripción del carro creado\"\"\"\n",
        "        Descripcion = str(self.anio) + ' ' + self.marca + ' ' + self.modelo\n",
        "        return Descripcion.title()\n",
        "    \n",
        "mi_auto = Carro('a4','audi',2020)\n",
        "print(mi_auto.Describe_Carro())"
      ],
      "execution_count": null,
      "outputs": [
        {
          "output_type": "stream",
          "text": [
            "2020 Audi A4\n"
          ],
          "name": "stdout"
        }
      ]
    },
    {
      "cell_type": "markdown",
      "metadata": {
        "id": "bPwwAsB7Wi1C"
      },
      "source": [
        "En la línea *1* se define la clase `Carro()`, en la línea *4* está el constructor que pide la marca, modelo y año del auto. En la línea *10* está el atributo `Describe_Carro()`. En la línea *15* se muestra la creación del un objeto tipo `Carro` y en la siguiente línea se muestra el uso del único método de la clase."
      ]
    },
    {
      "cell_type": "markdown",
      "metadata": {
        "id": "47xYQwIdWi1D"
      },
      "source": [
        "### 2.4.2 Definiendo atributos predeterminados en las clases\n",
        "Cada atributo en la clase necesita un valor inicial, no importa si es 0 o una cadena de caracteres vacía. En ocasiones hay atributos que no se mandarán como argumentos en el constructor, sin embargo, dentro del constructor se deben de inicializar. Observe el siguiente código."
      ]
    },
    {
      "cell_type": "code",
      "metadata": {
        "id": "I9pSyHTOWi1D"
      },
      "source": [
        "class Carro():\n",
        "    \"\"\"Clase carro\"\"\"\n",
        "    \n",
        "    def __init__(self,modelo,marca = 'Nissan', anio=2020):\n",
        "        \"\"\"Inicializa los atributos del carro\"\"\"\n",
        "        self.marca = marca\n",
        "        self.modelo = modelo\n",
        "        self.anio = anio\n",
        "        self.kilometraje = 0\n",
        "    \n",
        "    def Describe_Carro(self):\n",
        "        \"\"\"Imprime la descripción del carro creado\"\"\"\n",
        "        Descripcion = str(self.anio) + ' ' + self.marca + ' ' + self.modelo\n",
        "        return Descripcion.title()\n",
        "    \n",
        "    def muestra_Kilometraje(self):\n",
        "        \"\"\"Imprime el kilometraje del auto\"\"\"\n",
        "        print(\"Este auto tiene \" + str(self.kilometraje) +\" kilómetros recorridos\")\n",
        "        \n",
        "    \n",
        "mi_auto = Carro('audi','a4',2020)\n",
        "print(mi_auto.Describe_Carro())\n",
        "mi_auto.muestra_Kilometraje()\n",
        "\n",
        "mi_auto_2 = Carro(anio = 2019, marca = 'Nissan',modelo='Sentra')\n",
        "print(mi_auto_2.Describe_Carro())\n",
        "mi_auto.muestra_Kilometraje()\n",
        "\n",
        "mi_auto_3 = Carro(modelo = 'Versa')\n",
        "print(mi_auto_3.Describe_Carro())\n",
        "mi_auto_3.muestra_Kilometraje()\n"
      ],
      "execution_count": null,
      "outputs": []
    },
    {
      "cell_type": "markdown",
      "metadata": {
        "id": "8eznBJS8Wi1G"
      },
      "source": [
        "Observe que en la línea *9* está el atributo kilometraje que se está inicializando con un valor numérico de *0*. El atributo de `kilometraje` no está como atributo en la función que define el constructor, sin embargo, si debe de estar inicializado en el cuerpo del constructor. \n",
        "\n",
        "Observe también que en la celda anterior, ya se pusieron algunos valores predeterminados para los atributos del constructor.\n",
        "\n",
        "En la clase también se ha generado un método para poder imprimir el kilometraje de cada auto.\n",
        "\n",
        "En la creación de los objetos se muestra que el constructor tiene propiedades de funciones y de argumentos posicionales."
      ]
    },
    {
      "cell_type": "markdown",
      "metadata": {
        "id": "js5Hi8H5Wi1H"
      },
      "source": [
        "### 2.4.3 Modificando los valores de los atributos\n",
        "Existen dos maneras de poder modificar los atributos de de una clase, la primera es de manera directa y aunque es lo más fácil y directo no es muy recomendable ya que el usuario de manera accidental podría modificar el valor de ciertos atributos que sólo deberían de ser tratados internamente (dentro de la clase) y no deberían de estar disponibles para los usuarios, a este hecho se le conoce como encapsulamiento. \n",
        "\n",
        "La otra forma que es la más recomendable y es propia del encapsulamiento es a través de métodos, además que cuando se hace a través de métodos se puede agregar cierta lógica en la manera en que se deben de modificar los atributos. \n",
        "\n",
        "#### 2.4.3.1 Modificando los valores de manera directa.\n",
        "La manera más simple y sencilla par amodificar los valores de los atributos es acceder a ellos de manera directa, observe la siguiente celda, donde se modificará el valor del kilometraje de un auto "
      ]
    },
    {
      "cell_type": "code",
      "metadata": {
        "id": "qYSnboqRWi1H"
      },
      "source": [
        "class Carro():\n",
        "    \"\"\"Clase carro\"\"\"\n",
        "    \n",
        "    def __init__(self,modelo,marca = 'Nissan', anio=2020):\n",
        "        \"\"\"Inicializa los atributos del carro\"\"\"\n",
        "        self.marca = marca\n",
        "        self.modelo = modelo\n",
        "        self.anio = anio\n",
        "        self.kilometraje = 0\n",
        "    \n",
        "    def Describe_Carro(self):\n",
        "        \"\"\"Imprime la descripción del carro creado\"\"\"\n",
        "        Descripcion = str(self.anio) + ' ' + self.marca + ' ' + self.modelo\n",
        "        return Descripcion.title()\n",
        "    \n",
        "    def muestra_Kilometraje(self):\n",
        "        \"\"\"Imprime el kilometraje del auto\"\"\"\n",
        "        print(\"Este auto tiene \" + str(self.kilometraje) +\" kilómetros recorridos\")\n",
        "        \n",
        "    \n",
        "mi_auto = Carro('audi','a4',2020)\n",
        "print(mi_auto.Describe_Carro())\n",
        "mi_auto.muestra_Kilometraje()\n",
        "\n",
        "# Modificando el atributo de manera directa\n",
        "mi_auto.kilometraje = 50\n",
        "\n",
        "#Mostrando el kilometraje para verificar que realmente se ha modificado\n",
        "mi_auto.muestra_Kilometraje()"
      ],
      "execution_count": null,
      "outputs": []
    },
    {
      "cell_type": "markdown",
      "metadata": {
        "id": "REbZreyLWi1L"
      },
      "source": [
        "A veces esta forma de modificar puede funcionar, pero... ¿Qué pasaría si se le quisiera poner un kilometraje negativo al auto?.... La respuesta es que numéricamente se puede hacer eso, sin embargo, lógicamente no puede ser posible, o si el auto tiene 200 km recorridos ¿Se podría disminuir ese kilometraje?... La respuesta es similar, numéricamente si, aunque lógicamente no se debería de poder. "
      ]
    },
    {
      "cell_type": "markdown",
      "metadata": {
        "id": "GdtQNrqgWi1L"
      },
      "source": [
        "#### 2.4.3.2  Modificando los atributos  a través de un método\n",
        "\n",
        "PUede ser útil métodos que puden modificar los atributos y noacceder a los atributos de manera directa, la idea es generar un atributo (función) que reciba el valor y que modifique el atributo de la clase, en la siguiente celda se muestra un ejemplo."
      ]
    },
    {
      "cell_type": "code",
      "metadata": {
        "id": "RJky_y0MWi1M"
      },
      "source": [
        "class Carro():\n",
        "    \"\"\"Clase carro\"\"\"\n",
        "    \n",
        "    def __init__(self,modelo,marca = 'Nissan', anio=2020):\n",
        "        \"\"\"Inicializa los atributos del carro\"\"\"\n",
        "        self.marca = marca\n",
        "        self.modelo = modelo\n",
        "        self.anio = anio\n",
        "        self.kilometraje = 0\n",
        "    \n",
        "    def Describe_Carro(self):\n",
        "        \"\"\"Imprime la descripción del carro creado\"\"\"\n",
        "        Descripcion = str(self.anio) + ' ' + self.marca + ' ' + self.modelo\n",
        "        return Descripcion.title()\n",
        "    \n",
        "    def muestra_Kilometraje(self):\n",
        "        \"\"\"Imprime el kilometraje del auto\"\"\"\n",
        "        print(\"Este auto tiene \" + str(self.kilometraje) +\" kilómetros recorridos\")\n",
        "    \n",
        "    def Leer_Kilometraje(self,valor_usuario):\n",
        "        \"\"\"Asigna el valor de de valor_usuario a kilometraje\"\"\"\n",
        "        self.kilometraje = valor_usuario\n",
        "        \n",
        "    \n",
        "mi_auto = Carro('audi','a4',2020)\n",
        "print(mi_auto.Describe_Carro())\n",
        "mi_auto.muestra_Kilometraje()\n",
        "\n",
        "# Modificando el atributo de manera directa\n",
        "mi_auto.Leer_Kilometraje(60)\n",
        "\n",
        "#Mostrando el kilometraje para verificar que realmente se ha modificado\n",
        "mi_auto.muestra_Kilometraje()"
      ],
      "execution_count": null,
      "outputs": []
    },
    {
      "cell_type": "markdown",
      "metadata": {
        "id": "5ss2UbpeWi1P"
      },
      "source": [
        "Observe que  en la línea *20* se ha puesto un método que además de tener como atributo *self* que indica pertenencia a una clase, se ha agregado otro argumento llamado **valor_usuario** y en la línea *23* se le asigna el valor de *valor_usuario* al atributo *self.kilometraje*.\n",
        "\n",
        "En la línea *30* se invoca el método y se le manda el valor de `60`, y en la línea `33` se muestra el efecto de haber cambiado el kilometraje.\n",
        "\n",
        "Sin embargo, este método no muestra ninguna ventaja respecto al hecho de poder modificar el atributo de manera directa. Una gran ventaja de modificar el atributo utilizando métodos es que cuando se quiere hacer con métodos se puede agregar un procesamiento de los argumentos de entrada, tal como se muestra en la siguiente celda. "
      ]
    },
    {
      "cell_type": "code",
      "metadata": {
        "id": "SifTjdZvWi1P"
      },
      "source": [
        "class Carro():\n",
        "    \"\"\"Clase carro\"\"\"\n",
        "    \n",
        "    def __init__(self,modelo,marca = 'Nissan', anio=2020):\n",
        "        \"\"\"Inicializa los atributos del carro\"\"\"\n",
        "        self.marca = marca\n",
        "        self.modelo = modelo\n",
        "        self.anio = anio\n",
        "        self.kilometraje = 0\n",
        "    \n",
        "    def Describe_Carro(self):\n",
        "        \"\"\"Imprime la descripción del carro creado\"\"\"\n",
        "        Descripcion = str(self.anio) + ' ' + self.marca + ' ' + self.modelo\n",
        "        return Descripcion.title()\n",
        "    \n",
        "    def muestra_Kilometraje(self):\n",
        "        \"\"\"Imprime el kilometraje del auto\"\"\"\n",
        "        print(\"Este auto tiene \" + str(self.kilometraje) +\" kilómetros recorridos\")\n",
        "    \n",
        "    def Leer_Kilometraje(self,valor_usuario):\n",
        "        \"\"\"Asigna el valor de de valor_usuario a kilometraje\"\"\"\n",
        "        if valor_usuario >= self.kilometraje:\n",
        "            print(\"Asignación correcta\")\n",
        "            self.kilometraje = valor_usuario\n",
        "        else:\n",
        "            print(\"Asignación incorrecta, no se ha llevado a cabo\")\n",
        "        \n",
        "    \n",
        "mi_auto = Carro('audi','a4',2020)\n",
        "print(mi_auto.Describe_Carro())\n",
        "mi_auto.muestra_Kilometraje()\n",
        "\n",
        "# Modificando el atributo de manera directa\n",
        "mi_auto.Leer_Kilometraje(60)\n",
        "\n",
        "# Mostrando el kilometraje para verificar que realmente se ha modificado\n",
        "mi_auto.muestra_Kilometraje()\n",
        "\n",
        "# Modificando el kilometraje, utilizando un valor menor\n",
        "mi_auto.Leer_Kilometraje(20)\n",
        "\n",
        "# Mostrando el kilometraje actual\n",
        "mi_auto.muestra_Kilometraje()\n"
      ],
      "execution_count": null,
      "outputs": []
    },
    {
      "cell_type": "markdown",
      "metadata": {
        "id": "xhroVN-NWi1S"
      },
      "source": [
        "El método `Leer_Kilometraje(self,valor_usuario)`, se ha modificado observe que ahora verifica si el valor por el que se quiere modificar el kilometraje es mayor o igual al kilometraje que el auto tiene, si se cumple la condición imprimirá `Asignación correcta` y ejecutará la asignación del valor del usuario al kilometraje del auto. Si el kilometraje es menor, muestra un error y la asginación no se lleva a cabo.\n",
        "\n",
        "En la línea `34` se hace una modificación correcta y en la línea `37` se muestra el kilometraje actual que es de `60km`, y en la línea `40` se muestra una asginación incorrecta, en la línea `43` se muestra el kilometraje actual del auto y observe que sigue siendo `60km`, ya que la segunda asignación fue incorrecta y no se llevó a cabo. \n"
      ]
    },
    {
      "cell_type": "markdown",
      "metadata": {
        "id": "Ty2asFhpWi1T"
      },
      "source": [
        "En la siguiente celda, se muestra un segundo ejemplo, en el que se agrega otro método que ayuda a ir aumentando el kilometraje "
      ]
    },
    {
      "cell_type": "code",
      "metadata": {
        "id": "vdXHA-Z4Wi1T"
      },
      "source": [
        "class Carro():\n",
        "    \"\"\"Clase carro\"\"\"\n",
        "    \n",
        "    def __init__(self,modelo,marca = 'Nissan', anio=2020):\n",
        "        \"\"\"Inicializa los atributos del carro\"\"\"\n",
        "        self.marca = marca\n",
        "        self.modelo = modelo\n",
        "        self.anio = anio\n",
        "        self.kilometraje = 0\n",
        "    \n",
        "    def Describe_Carro(self):\n",
        "        \"\"\"Imprime la descripción del carro creado\"\"\"\n",
        "        Descripcion = str(self.anio) + ' ' + self.marca + ' ' + self.modelo\n",
        "        return Descripcion.title()\n",
        "    \n",
        "    def muestra_Kilometraje(self):\n",
        "        \"\"\"Imprime el kilometraje del auto\"\"\"\n",
        "        print(\"Este auto tiene \" + str(self.kilometraje) +\" kilómetros recorridos\")\n",
        "    \n",
        "    def Leer_Kilometraje(self,valor_usuario):\n",
        "        \"\"\"Asigna el valor de de valor_usuario a kilometraje\"\"\"\n",
        "        if valor_usuario >= self.kilometraje:\n",
        "            print(\"Asignación correcta\")\n",
        "            self.kilometraje = valor_usuario\n",
        "        else:\n",
        "            print(\"Asignación incorrecta, no se ha llevado a cabo\")\n",
        "            \n",
        "    def Actualizar_Kilometraje(self,valor_suma):\n",
        "        \"\"\"Suma el valor del usuario al kilometraje del auto\"\"\"\n",
        "        if valor_suma >= 0:\n",
        "            print(\"Incremento correcto\")\n",
        "            self.kilometraje += valor_suma\n",
        "            #self.kilometraje = self.kilometraje + valor_suma\n",
        "        else:\n",
        "            print(\"Incremento incorrecto, no se llevará a cabo\")\n",
        "        \n",
        "    \n",
        "mi_auto = Carro('audi','a4',2020)\n",
        "print(mi_auto.Describe_Carro())\n",
        "mi_auto.muestra_Kilometraje()\n",
        "\n",
        "# Modificando el atributo de manera directa\n",
        "mi_auto.Leer_Kilometraje(60)\n",
        "\n",
        "# Mostrando el kilometraje para verificar que realmente se ha modificado\n",
        "mi_auto.muestra_Kilometraje()\n",
        "\n",
        "# Sumar 20 km al kilometraje actual\n",
        "mi_auto.Actualizar_Kilometraje(20)\n",
        "\n",
        "# Mostrando el kilometraje actual\n",
        "mi_auto.muestra_Kilometraje()\n",
        "\n",
        "#Modificando el kilometraje utilizando un valor negativo\n",
        "mi_auto.Actualizar_Kilometraje(-10)\n",
        "\n",
        "# Mostrando el kilometraje actual\n",
        "mi_auto.muestra_Kilometraje()"
      ],
      "execution_count": null,
      "outputs": []
    },
    {
      "cell_type": "markdown",
      "metadata": {
        "id": "6oGh6h1MWi1Y"
      },
      "source": [
        "### 2.4.4 Ejercicios\n",
        "\n",
        "1. **Clientes atendidos:**   Retomar la clase de **Restaurante** que se generó a lo largo de este *notebook* y agregar un atributo que `clientes_atendidos`  y agregar dos métodos: \n",
        "    1. `Clientes_Atendidos(self,numero):` que pueda modificar el número de clientes\n",
        "        2.`Aumenta_Clientes(self,numero):` que pueda aumentar el número de clientes que se han atendido\n",
        "        \n",
        "2. **Control de acceso**    Acompletar el código de la siguiente celda, que crea una clase Usuario, donde el constructor debe de aceptar el nombre de usuario y la contraseña, cuando se invoque el método `ingresar` debe de pedir la contraseña del usuario, si la contraseña es correcta, debe de imprimir `Bienvenido a su cuenta`, si la contraseña se ingresa incorrectamente 3 veces debe de imprimir `Cuenta bloquead, intente más tarde` y debe de reiniciar la varialbe `self.intentosAcceso` a cero."
      ]
    },
    {
      "cell_type": "code",
      "metadata": {
        "id": "32zAdqlLfG2b",
        "outputId": "b87a8af0-e4cc-494f-b3e3-f8b7dd16602b",
        "colab": {
          "base_uri": "https://localhost:8080/"
        }
      },
      "source": [
        "####CLIENTES ATENDIDOS##\n",
        "class Restaurant():\n",
        "\n",
        "    def __init__(self,Nombre,Tipococina):\n",
        "      self.Nombre=Nombre \n",
        "      self.Tipococina=Tipococina\n",
        "      self.Clientes_atendidos=0\n",
        "\n",
        "    def describe_restaurant(self): \n",
        "      print(\"El nombre del restaurant es \" + self.Nombre.title() + \" y el tipo de comida que se sirve es \" + self.Tipococina.title() + \".\" )\n",
        "\n",
        "    def muestra_clientes(self):\n",
        "      print(\"Se han atendido \" + str(self.Clientes_atendidos) + \" clientes en total\")\n",
        "\n",
        "    def aumentar_clientes(self, clientes_sumados):\n",
        "      if clientes_sumados >=0:\n",
        "        print(\"clientes aumentados exitosamente\")\n",
        "        self.Clientes_atendidos += clientes_sumados\n",
        "      else:\n",
        "        print(\"No pueden restarse clientes\")\n",
        "\n",
        "restaurant_1 = Restaurant(\"Los compaches \",\" Desayunos \")\n",
        "restaurant_1.describe_restaurant()\n",
        "restaurant_1.muestra_clientes()\n",
        "restaurant_1.aumentar_clientes(10)\n",
        "restaurant_1.muestra_clientes()\n",
        "restaurant_1.aumentar_clientes(7)\n",
        "restaurant_1.muestra_clientes()"
      ],
      "execution_count": null,
      "outputs": [
        {
          "output_type": "stream",
          "text": [
            "El nombre del restaurant es Los Compaches  y el tipo de comida que se sirve es  Desayunos .\n",
            "Se han atendido 0 clientes en total\n",
            "clientes aumentados exitosamente\n",
            "Se han atendido 10 clientes en total\n",
            "clientes aumentados exitosamente\n",
            "Se han atendido 17 clientes en total\n"
          ],
          "name": "stdout"
        }
      ]
    },
    {
      "cell_type": "code",
      "metadata": {
        "id": "JzYczhmMWi1Z",
        "outputId": "992f9325-9fe5-4309-93b2-46658dc71d11",
        "colab": {
          "base_uri": "https://localhost:8080/"
        }
      },
      "source": [
        "\n",
        "class User():\n",
        "    def __init__(self,Nickname,password):\n",
        "        self.nombre_usuario = Nickname\n",
        "        self.password = password\n",
        "        self.intentosAcceso = 0\n",
        "        \n",
        "    def ingresar(self,Nickname):\n",
        "      while self.intentosAcceso<3:\n",
        "          cont = input(\"Ingrese su contraseña:\")\n",
        "          if cont == self.password:\n",
        "              print(\"Bienvenido\")\n",
        "              break\n",
        "          else:\n",
        "              print(\"Contraseña incorrecta\")\n",
        "              self.intentosAcceso += 1 \n",
        "      if self.intentosAcceso == 3:\n",
        "        print(\"Cuenta bloqueada , intente más tarde\")\n",
        "        intentosAcceso = 0\n",
        "\n",
        "user1 = User(\"Juan\", \"juan1234\")\n",
        "user1.ingresar (Nickname = \"Juan\")"
      ],
      "execution_count": null,
      "outputs": [
        {
          "output_type": "stream",
          "text": [
            "Ingrese su contraseña:jk\n",
            "Contraseña incorrecta\n",
            "Ingrese su contraseña:sf\n",
            "Contraseña incorrecta\n",
            "Ingrese su contraseña:juan\n",
            "Contraseña incorrecta\n",
            "Cuenta bloqueada , intente más tarde\n"
          ],
          "name": "stdout"
        }
      ]
    },
    {
      "cell_type": "markdown",
      "metadata": {
        "id": "SR-635JqWi1b"
      },
      "source": [
        "## 2.5 Herencia"
      ]
    },
    {
      "cell_type": "markdown",
      "metadata": {
        "id": "ClcBV0ZuWi1c"
      },
      "source": [
        "Al momento de iniciar un nuevo programa o proyecto, no necesariamente se debe de comenzar desde cero y definr las clases y todos los slementos propios para le nuevo proyecto, se puede reciclar y reutilizar código de proyectos anteriores, por ejemplo es muy común que las bases de datos tengan varios campos en común, en vez de ir desarrollando cada campo de manera individual se utiliza una clase base y que de ésta clase base se derive una clase secundaria que contenga todos elementos de la clase base, a este hecho se le conoce como herencia.\n",
        "\n",
        "\n",
        "Cuando una clase es heredada o ha sido derivada de otra clase, hereda todos atributos y métodos de la primera clase. La calse original se le conoce como *clase padre*, y a la nueva clase se le conoce como *clase hijo*.La clase hijo o hija hereda todos los atributs y métodos de la clase pdre pero también es libre de poder definir atributos y métodos propios que la diferencian de la clase padre.\n"
      ]
    },
    {
      "cell_type": "markdown",
      "metadata": {
        "id": "__zD8lCTWi1d"
      },
      "source": [
        " "
      ]
    },
    {
      "cell_type": "markdown",
      "metadata": {
        "id": "VTpyYoCUWi1d"
      },
      "source": [
        "### 2.5.1 El constructor de la clase hijo\n",
        "\n",
        "Como se ha comentado anteriormente el método que tien *def __init__()* se le conoce como el constructor de la clase, y todas las clases deben de dener un constructor. A continuación se retoma la clase `Carro` con la que se han hecho los ejemplos de las celdas anteriores. El código de la clase está dado por "
      ]
    },
    {
      "cell_type": "code",
      "metadata": {
        "id": "zlexojsiWi1e"
      },
      "source": [
        "class Carro():\n",
        "    \"\"\"Clase carro\"\"\"\n",
        "    \n",
        "    def __init__(self,modelo,marca = 'Nissan', anio=2020):\n",
        "        \"\"\"Inicializa los atributos del carro\"\"\"\n",
        "        self.marca = marca\n",
        "        self.modelo = modelo\n",
        "        self.anio = anio\n",
        "        self.kilometraje = 0\n",
        "    \n",
        "    def Describe_Carro(self):\n",
        "        \"\"\"Imprime la descripción del carro creado\"\"\"\n",
        "        Descripcion = str(self.anio) + ' ' + self.marca + ' ' + self.modelo\n",
        "        return Descripcion.title()\n",
        "    \n",
        "    def muestra_Kilometraje(self):\n",
        "        \"\"\"Imprime el kilometraje del auto\"\"\"\n",
        "        print(\"Este auto tiene \" + str(self.kilometraje) +\" kilómetros recorridos\")\n",
        "    \n",
        "    def Leer_Kilometraje(self,valor_usuario):\n",
        "        \"\"\"Asigna el valor de de valor_usuario a kilometraje\"\"\"\n",
        "        if valor_usuario >= self.kilometraje:\n",
        "            print(\"Asignación correcta\")\n",
        "            self.kilometraje = valor_usuario\n",
        "        else:\n",
        "            print(\"Asignación incorrecta, no se ha llevado a cabo\")\n",
        "            \n",
        "    def Actualizar_Kilometraje(self,valor_suma):\n",
        "        \"\"\"Suma el valor del usuario al kilometraje del auto\"\"\"\n",
        "        if valor_suma >= 0:\n",
        "            print(\"Incremento correcto\")\n",
        "            self.kilometraje += valor_suma\n",
        "            #self.kilometraje = self.kilometraje + valor_suma\n",
        "        else:\n",
        "            print(\"Incremento incorrecto, no se llevará a cabo\")\n",
        "        "
      ],
      "execution_count": null,
      "outputs": []
    },
    {
      "cell_type": "markdown",
      "metadata": {
        "id": "YbRYTfs0Wi1g"
      },
      "source": [
        " Observe que esta clase tiene su constructor y que debe de tener por lo menos un parámetro para que es `marca`, ya que los otros dos parámetros están predeterminados, sin emgargo, el usuario puede definir los tres parámetros, los demás métodos se han explicado en las secciones anteriores. \n",
        " \n",
        " Ahora se quiere generr una clase `CarroElectrico` y se requiere que herede todos atributos de la clase `Carro`, La clase hija debe su propio constructor y dentro de ésta se debe de manda a llmar al constructor de la clase padre, tal como se muestra en la siguiente celda"
      ]
    },
    {
      "cell_type": "code",
      "metadata": {
        "id": "te8m8ZvyWi1h"
      },
      "source": [
        "class CarroElectrico(Carro):\n",
        "    \"\"\"Representa a un auto eléctrico\"\"\"\n",
        "    def __init__(self,marca, modelo, anio): \n",
        "        #inicializa los elementos de la clase padre.\n",
        "        super().__init__(marca,modelo,anio)"
      ],
      "execution_count": null,
      "outputs": []
    },
    {
      "cell_type": "markdown",
      "metadata": {
        "id": "n7vov6sSWi1k"
      },
      "source": [
        "En la celda anterior, se muestra la sintaxis para poder definir la herencia, observe que primero debe de ir \n",
        "    `class Clase_hijo(Clase_padre):`, que en nuestro caso la clase hijo es `CarroElectrico` y la  clase padre es  `Carro`. \n",
        "    \n",
        "Una vez que se ha definido la herencia en la implmentación de la clase hijo, se debe de definir el constructor y aquí hay una parte interesante, el constructor de la clase hijo, debe de tener los elementos necesarios para poder inicializar el constructor de la clase padre, argumentos necesarios y propios de la clase hijo:\n",
        "\n",
        "`def _init__(self,argumentos_necesarios_para_clase_padre, argumentos_propios):`\n",
        "\n",
        "y observe que dentro del constructor de la clase hijo, se debe de mandar a llamar al constructor de la clase padre de la siguiente forma:\n",
        "\n",
        "`super()._init__(argumentos_del_constructor_de_la_clase_padre)`\n",
        "\n",
        "observe que el constructor de la clase padre ya no debe de tener como argumento  `self`.\n",
        "\n",
        "En la siguiente celda se observa la creación de un objeto de la clase `CarroElectrico` y se utilizarán los métodos de la clase a la cual se le ha heredado."
      ]
    },
    {
      "cell_type": "code",
      "metadata": {
        "id": "KjAi5dwjWi1k"
      },
      "source": [
        "miTesla = CarroElectrico('tesla','model_s', 2020)\n",
        "print(miTesla.Describe_Carro())"
      ],
      "execution_count": null,
      "outputs": []
    },
    {
      "cell_type": "markdown",
      "metadata": {
        "id": "a4EeDKv0Wi1n"
      },
      "source": [
        "### 2.5.2 Definiendo Atributos y métodos de la clase hija\n",
        "Una vez que se ha logrado la herencia la clase hija NO ESTÁ LIMITADA a tener sólo los métodos y atributos de la clase padre, LA CLASE HIJO PUEDE TENER SUS PROPIOS METODOS Y ATRIBUTOS.\n",
        "\n",
        "Como ejemplo se agregará un atributo a la calse `CarroElectrico`, el atributo que se agregará será `Bateria` que mostrará la corriente por hora que es capaz de brindar al auto. Para agregar el atributo sería el siguiente código"
      ]
    },
    {
      "cell_type": "code",
      "metadata": {
        "id": "c19F0g9BWi1o"
      },
      "source": [
        "class CarroElectrico(Carro):\n",
        "    \"\"\"Representa los aspectos de un auto eléctrico\"\"\"\n",
        "    \n",
        "    def __init__(self,marca,modelo,anio):\n",
        "        \"\"\"Constructor de la clase Hijo\"\"\"\n",
        "        #Inicialización de la clase padre\n",
        "        super().__init__(marca,modelo,anio)\n",
        "        \n",
        "        # Nuevo atributo de la clase \n",
        "        self.Bateria = 70 \n",
        "        \n",
        "    def Describe_Bateria(self):\n",
        "        \"\"\"Imprime la información de la batería\"\"\"\n",
        "        print(\"Este auto tiene una batería: \" + str(self.Bateria) + \"-kWh\")"
      ],
      "execution_count": null,
      "outputs": []
    },
    {
      "cell_type": "markdown",
      "metadata": {
        "id": "MwzAlSV5Wi1q"
      },
      "source": [
        "En la celda superior se observa que a la clase `CarroElectrico` se le ha agregado un atributo nuevo y también un método, observe que es la misma metodología que se ha utilizado para definir los métodos y atributos de cualquier clase. \n",
        "\n",
        "Para hacer uso de los métodos es necesario hacerlo como se haría con cualquier clase normal."
      ]
    },
    {
      "cell_type": "markdown",
      "metadata": {
        "id": "cbg9zb0eWi1r"
      },
      "source": [
        "### 2.5.3 Sobrecarga de Métodos de la clase padre.\n",
        "\n",
        "Supongamos que la calse padre tiene un método y al momento que hereda, el método pasa a ser parte de la clase hijo, sin embargo, puede que el método de la clase padre no apegue a los requerimientos de la clase hijo, entonces, la clase hijo puede  *redefinir* el método que ha heredado, a este fenómeno se le conoce como **Sobrecarga de funciones o de métodos**\n",
        "\n",
        "Como ejemplo, se muestra la clase padre, que es la clase asociada a un `Carro` y se le agregará un método llamado `Cargar` que simulará el hecho de cargar gasolina. Después se generará la clase de un `CarroElectrico` que hereda de la clase `Carro`, sin embargo, el método `Cargar` deberá de ser distinto, observe los códigos de las siguientes celdas.\n"
      ]
    },
    {
      "cell_type": "code",
      "metadata": {
        "id": "H04FTBZTWi1r"
      },
      "source": [
        "class Carro():\n",
        "    \"\"\"Clase carro\"\"\"\n",
        "    \n",
        "    def __init__(self,modelo,marca = 'Nissan', anio=2020):\n",
        "        \"\"\"Inicializa los atributos del carro\"\"\"\n",
        "        self.marca = marca\n",
        "        self.modelo = modelo\n",
        "        self.anio = anio\n",
        "        self.kilometraje = 0\n",
        "    \n",
        "    def Describe_Carro(self):\n",
        "        \"\"\"Imprime la descripción del carro creado\"\"\"\n",
        "        Descripcion = str(self.anio) + ' ' + self.marca + ' ' + self.modelo\n",
        "        return Descripcion.title()\n",
        "    \n",
        "    def muestra_Kilometraje(self):\n",
        "        \"\"\"Imprime el kilometraje del auto\"\"\"\n",
        "        print(\"Este auto tiene \" + str(self.kilometraje) +\" kilómetros recorridos\")\n",
        "    \n",
        "    def Leer_Kilometraje(self,valor_usuario):\n",
        "        \"\"\"Asigna el valor de de valor_usuario a kilometraje\"\"\"\n",
        "        if valor_usuario >= self.kilometraje:\n",
        "            print(\"Asignación correcta\")\n",
        "            self.kilometraje = valor_usuario\n",
        "        else:\n",
        "            print(\"Asignación incorrecta, no se ha llevado a cabo\")\n",
        "            \n",
        "    def Actualizar_Kilometraje(self,valor_suma):\n",
        "        \"\"\"Suma el valor del usuario al kilometraje del auto\"\"\"\n",
        "        if valor_suma >= 0:\n",
        "            print(\"Incremento correcto\")\n",
        "            self.kilometraje += valor_suma\n",
        "            #self.kilometraje = self.kilometraje + valor_suma\n",
        "        else:\n",
        "            print(\"Incremento incorrecto, no se llevará a cabo\")\n",
        "    \n",
        "    def Cargar(self):\n",
        "        print(\"El auto se está cargando de gasolina\")"
      ],
      "execution_count": null,
      "outputs": []
    },
    {
      "cell_type": "code",
      "metadata": {
        "id": "7e80Lu5cWi1u"
      },
      "source": [
        "class CarroElectrico(Carro):\n",
        "    \"\"\"Representa los aspectos de un auto eléctrico\"\"\"\n",
        "    \n",
        "    def __init__(self,marca,modelo,anio):\n",
        "        \"\"\"Constructor de la clase Hijo\"\"\"\n",
        "        #Inicialización de la clase padre\n",
        "        super().__init__(marca,modelo,anio)\n",
        "        \n",
        "        # Nuevo atributo de la clase \n",
        "        self.Bateria = 70 \n",
        "        \n",
        "    def Describe_Bateria(self):\n",
        "        \"\"\"Imprime la información de la batería\"\"\"\n",
        "        print(\"Este auto tiene una batería: \" + str(self.Bateria) + \"-kWh\")\n",
        "        \n",
        "    def Cargar(self):\n",
        "        print(\"El auto se ha conectado a la energía eléctrica para cargar la batería\")"
      ],
      "execution_count": null,
      "outputs": []
    },
    {
      "cell_type": "code",
      "metadata": {
        "id": "b-zV-PVoWi1w",
        "outputId": "06f93933-16e4-440e-9ebb-3c491ba8d6f6"
      },
      "source": [
        "miCamioneta = Carro('Ford','Lobo',2018)\n",
        "print(\"Detalles de la camioneta: \" + miCamioneta.Describe_Carro())\n",
        "print(miCamioneta.Cargar())"
      ],
      "execution_count": null,
      "outputs": [
        {
          "output_type": "stream",
          "text": [
            "Detalles de la camioneta: 2018 Lobo Ford\n",
            "El auto se está cargando de gasolina\n",
            "None\n"
          ],
          "name": "stdout"
        }
      ]
    },
    {
      "cell_type": "markdown",
      "metadata": {
        "id": "F_HCxFMFWi10"
      },
      "source": [
        "En la celda anterior se ha declarado una camioneta Ford, y se ha llamado el método `Describe_Carro` y después se ha llamado el método `Cargar` e imprime el que se está cargando con gasolina. Observemos que pasa ahora si se hace un auto eléctico y llamaremos al método `Cargar` para ver las diferencias. "
      ]
    },
    {
      "cell_type": "code",
      "metadata": {
        "id": "y51xO8d6Wi11",
        "outputId": "8a00eee4-7ab2-4842-edb4-4be0072be7a9"
      },
      "source": [
        "miNissan = CarroElectrico('Nissan', 'Leaf', 2020)\n",
        "print(\"Detalles de auto: \" + miNissan.Describe_Carro())\n",
        "print(miNissan.Cargar())"
      ],
      "execution_count": null,
      "outputs": [
        {
          "output_type": "stream",
          "text": [
            "Detalles de auto: 2020 Leaf Nissan\n",
            "El auto se ha conectado a la energía eléctrica para cargar la batería\n",
            "None\n"
          ],
          "name": "stdout"
        }
      ]
    },
    {
      "cell_type": "markdown",
      "metadata": {
        "id": "JxjkXrmoWi14"
      },
      "source": [
        "Observa que se ha generado un auto eléctrico y en la definición de la case se agregó el método `Cargar`, en la celda anterior, cuando se manda a llamar el método `Cargar` se llama al método de la clase `CarroElectrico` y no al del `Carro` llevándose a cabo la sobrecarga de funciones. "
      ]
    },
    {
      "cell_type": "markdown",
      "metadata": {
        "id": "ZdLdvyX0Wi14"
      },
      "source": [
        "### 2.5.4 Intancias como atributos\n",
        "\n",
        "Existe otro fenómeno que se llama **Composición de clases** que es muy distinto a la herencia de clases. En la composición un objeto puede ser parte de los atributos, como ejemplo. Suponga que se tiene un robot diferencial como el que se muestra en el link de abajo\n",
        "\n",
        "https://www.youtube.com/watch?v=i-JHGbDN4GA"
      ]
    },
    {
      "cell_type": "markdown",
      "metadata": {
        "id": "2XVDVjThWi15"
      },
      "source": [
        "Como se observa en el video, el robot tiene dos motores y nos enfocaremos en ese ejemplo. Se creará una clase que describa un motor, que tenga como atributos el `voltaje` de funcionamiento, se agregarán tres métodos para el motor `girar_derecha(self)`, `girar_izquierda(self)` y `paro(self)`"
      ]
    },
    {
      "cell_type": "code",
      "metadata": {
        "id": "f9QLx82VWi15"
      },
      "source": [
        "class motor():\n",
        "    def __init__(self, volts):\n",
        "        self.voltaje = volts\n",
        "        \n",
        "    def girar_derecha(self):\n",
        "        print(\"El motor está girando a la derecha\")\n",
        "        \n",
        "    def girar_izquierda(self):\n",
        "        print(\"El motor está girando a la izqiuerda\")\n",
        "        \n",
        "    def paro(self):\n",
        "        print(\"El motor está parado\")"
      ],
      "execution_count": null,
      "outputs": []
    },
    {
      "cell_type": "markdown",
      "metadata": {
        "id": "eGkrOUIOWi19"
      },
      "source": [
        "Una vez que se ha creado la clase motor, se generará la clase `RobotDiferencial` y tendrá como atributos los dos motores. Se agregarán sólo los métodos `Paro` para y `Avanza` para el robot. Para que el robot avance hacia delante, es necesario que el un motor gire a la derecha y el otro a la izquierda. Observe la implmentación de la clase robot"
      ]
    },
    {
      "cell_type": "code",
      "metadata": {
        "id": "sktiLfvvWi19"
      },
      "source": [
        "class Robot():\n",
        "    def __init__(self, volts):\n",
        "        self.motor1 = motor(volts)\n",
        "        self.motor2 = motor(volts)\n",
        "        print(\"Se ha creado el robot\")\n",
        "        \n",
        "    def Avanza(self):\n",
        "        print(\"El motor está avanzando\")\n",
        "        self.motor1.girar_derecha()\n",
        "        self.motor2.girar_izquierda()\n",
        "        \n",
        "        \n",
        "    def Paro(self):\n",
        "        print(\"El motor se ha parado\")\n",
        "        self.motor1.paro();\n",
        "        self.motor2.paro();"
      ],
      "execution_count": null,
      "outputs": []
    },
    {
      "cell_type": "code",
      "metadata": {
        "id": "S8rpUmAlWi2A",
        "outputId": "069e0625-c98f-47bd-e417-22f53033b477"
      },
      "source": [
        "miRobot = Robot(5)\n",
        "\n",
        "miRobot.Avanza()\n",
        "\n",
        "miRobot.Paro()\n"
      ],
      "execution_count": null,
      "outputs": [
        {
          "output_type": "stream",
          "text": [
            "Se ha creado el robot\n",
            "El motor está avanzando\n",
            "El motor está girando a la derecha\n",
            "El motor está girando a la izqiuerda\n",
            "El motor se ha parado\n",
            "El motor está parado\n",
            "El motor está parado\n"
          ],
          "name": "stdout"
        }
      ]
    },
    {
      "cell_type": "markdown",
      "metadata": {
        "id": "XZc1vxg9Wi2C"
      },
      "source": [
        "En las celdas anteriores se ha creado la clase motor y robot, observe que la clase robot está compuesta de dos objetos tipo motor, observe que el constructor de `Robot` debe de tener por lo menos los elementos necesarios para poder incializar los objetos `self.motor1` y `self.motor2`, en el método `Avanza` se utilizan los metodos de los motores para simular que el robot estaría avanzando. Lo mismo sucede para el método de `Paro`, se ingresa a los métodos de los motores para pararlos."
      ]
    },
    {
      "cell_type": "markdown",
      "metadata": {
        "id": "8PX-vpkSWi2D"
      },
      "source": [
        "### 2.5.5 Ejercicio\n",
        "\n",
        "1. **Heladería:** Una heladería se puede ver como un tipo específico de restaurante. Cree una clase que se llame `Heladeria` que herede de la clase `Restaurante` que se ha desarrollado en los ejercicios anteriores. Cree un atributo que se llame `sabores` que debe de ser una lista (estructura de datos). Agregar un método a la clase `Heladeria` que muestre los sabores que tiene.\n"
      ]
    },
    {
      "cell_type": "code",
      "metadata": {
        "id": "c98tU641gSEd",
        "outputId": "85185d46-f83e-45ae-d292-c3d51dc934c6",
        "colab": {
          "base_uri": "https://localhost:8080/"
        }
      },
      "source": [
        "####Heladeria###\n",
        "class Heladeria(Restaurant):\n",
        "  def __init__(self,Nombre,Tipococina):\n",
        "      super().__init__(Nombre,Tipococina)\n",
        "      self.sabores=[\"Queso\",\"Nuez\",\"cholate\",\"Limon\",\"Guanabana\",\"Mango\",\"guanabana\"]\n",
        "\n",
        "\n",
        "  def mostrar_sabores(self):\n",
        "    print(\"Los sabores disponibles son:\")\n",
        "    for i in self.sabores:\n",
        "      print(i)\n",
        "Heladeria1= Heladeria(\"La michacan\" ,\"postres Helados\")\n",
        "Heladeria1.describe_restaurant()\n",
        "Heladeria1.mostrar_sabores()"
      ],
      "execution_count": null,
      "outputs": [
        {
          "output_type": "stream",
          "text": [
            "El nombre del restaurant es La Michacan y el tipo de comida que se sirve es Postres Helados.\n",
            "Los sabores disponibles son:\n",
            "Queso\n",
            "Nuez\n",
            "cholate\n",
            "Limon\n",
            "Guanabana\n",
            "Mango\n",
            "guanabana\n"
          ],
          "name": "stdout"
        }
      ]
    }
  ]
}