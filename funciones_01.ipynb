{
  "nbformat": 4,
  "nbformat_minor": 0,
  "metadata": {
    "kernelspec": {
      "display_name": "Python 3",
      "language": "python",
      "name": "python3"
    },
    "language_info": {
      "codemirror_mode": {
        "name": "ipython",
        "version": 3
      },
      "file_extension": ".py",
      "mimetype": "text/x-python",
      "name": "python",
      "nbconvert_exporter": "python",
      "pygments_lexer": "ipython3",
      "version": "3.8.2"
    },
    "colab": {
      "name": "funciones_01.ipynb",
      "provenance": [],
      "collapsed_sections": []
    }
  },
  "cells": [
    {
      "cell_type": "markdown",
      "metadata": {
        "id": "HBD7H5Li9OpL"
      },
      "source": [
        "# 1. Funciones\n",
        "\n",
        "\n",
        "En esta sección se retoma la el concepto de funciones que son bloques de códigos que están desieñados para hacer un trabajo específico. Una vez que se desea reaizar una tarea que ya ha sido desarrollada dentro de función, simplemente se tiene que mandar a llamar o invocar a la función.\n",
        "\n",
        "En esta sección también se muestra cómo mandar información a una funcion diseñanada para procesar datos y  regresar algún valor o ejecutar algún comando. \n",
        "\n",
        "Finalmente se muestra como almacenar funciones en archivos separados llamandos *módulos* que ayudan a organizar mejor el programa principal."
      ]
    },
    {
      "cell_type": "markdown",
      "metadata": {
        "id": "7bnK_ATn9OpM"
      },
      "source": [
        "## 1.1. Definiendo una función ##\n",
        "\n",
        "Aquí se muestra un ejemplo de una función llamada $\\verb|greet_user|$ que simplemente imprime en la terminal una saludo"
      ]
    },
    {
      "cell_type": "code",
      "metadata": {
        "id": "Aa83a_ZP9OpN",
        "outputId": "d85eec61-b85d-437c-f464-68c326da0042",
        "colab": {
          "base_uri": "https://localhost:8080/"
        }
      },
      "source": [
        "########################################\n",
        "# CELDA 1 : Definición de una función  #\n",
        "########################################\n",
        "\n",
        "\n",
        "# Esta es la definición de una función\n",
        "def greet_user():\n",
        "    \"\"\"Mostrar un simple saludo.\"\"\"\n",
        "    print(\"Hola!\")\n",
        "\n",
        "\n",
        "# Ya estamos fuera de la función y se mandará a llamar\n",
        "greet_user()"
      ],
      "execution_count": null,
      "outputs": [
        {
          "output_type": "stream",
          "text": [
            "Hola!\n"
          ],
          "name": "stdout"
        }
      ]
    },
    {
      "cell_type": "markdown",
      "metadata": {
        "id": "vjo6Xp2M9OpS"
      },
      "source": [
        "En este ejemplo se muestra la estructura más simple de una fucnión . En la línea $\\verb|1|$ se utiliza la palabra reservada $\\verb|def|$ para notificar al intérprete de Python que comienza una función, seguido de $\\verb|def|$ sigue el nombre de la función y después unos parétesis vacíos, estos paréntesis vacíos implican que la fución no recibe ninguna información par poder trabajar, después de los paréntesis van dos puntos, estos indican que el código que sigue a continuación es el cuerpo de la función. Observe que todas las líneas de código pertenecientes a la fución deben de guardar la misma sangría. \n",
        "\n",
        "\n",
        "### 1.1.1 Pasando información a la función\n",
        "\n",
        "La función anterior sólo puede decir Hola, a continuación se muestra una modificación a la función para que ésta pueda mostrar un saludo personalizado."
      ]
    },
    {
      "cell_type": "code",
      "metadata": {
        "id": "tOD8hiQP9OpT",
        "outputId": "52b2af4a-9e35-4f79-b0ff-60773885437d",
        "colab": {
          "base_uri": "https://localhost:8080/",
          "height": 34
        }
      },
      "source": [
        "#########################################\n",
        "# CELDA 2 : Paso de info a la función   #\n",
        "#########################################\n",
        "\n",
        "\n",
        "# Esta es la definición de una función \n",
        "def greet_user(username):\n",
        "    \"\"\" Mostrar un saludo personalizado\"\"\"\n",
        "    print(\"Hola \"+username.title()+\"!\")\n",
        "    \n",
        "#Ya estamos fuera de la función y se mandará a llamar\n",
        "greet_user(\"Juan Pérez\")"
      ],
      "execution_count": null,
      "outputs": [
        {
          "output_type": "stream",
          "text": [
            "Hola Juan Pérez!\n"
          ],
          "name": "stdout"
        }
      ]
    },
    {
      "cell_type": "markdown",
      "metadata": {
        "id": "BxScjl5q9OpX"
      },
      "source": [
        "### 1.1.2 Ejercicios\n",
        "\n",
        "#### 1.1.2.1.Mensaje.\n",
        "Escriba una función llamanda $\\verb|display_message()|$ que imprima en la pantalla un mensaje que indique los temas que se han visto hasta el momento.\n",
        "\n",
        "#### 1.1.2.2 Libro favorito.\n",
        "Escriba una función que se llame $\\verb|libro_favorito()|$ que acepte un parámetro llamado $\\verb|titulo|$ y que despligue en la terminal *Tu libro favorito es (nombre del libro)*"
      ]
    },
    {
      "cell_type": "code",
      "metadata": {
        "id": "M5oUPODY-5S4",
        "outputId": "d6ae0e47-cffd-4a0d-ca41-b32d7d283a45",
        "colab": {
          "base_uri": "https://localhost:8080/",
          "height": 34
        }
      },
      "source": [
        "#######################\n",
        "#1.1.2.1   Mensaje    #\n",
        "#######################\n",
        "def display_message():\n",
        "    print(\"Temas vistos hasta el momento son: Calses y funciones \") \n",
        "display_message()"
      ],
      "execution_count": null,
      "outputs": [
        {
          "output_type": "stream",
          "text": [
            "Temas vistos hasta el momento son: Calses y funciones \n"
          ],
          "name": "stdout"
        }
      ]
    },
    {
      "cell_type": "code",
      "metadata": {
        "id": "yhDnzNcuCSR_",
        "outputId": "33a602ac-6e3c-4696-f761-630664f129ba",
        "colab": {
          "base_uri": "https://localhost:8080/",
          "height": 34
        }
      },
      "source": [
        "##########################\n",
        "#1.1.2.2 Libro favorito  #\n",
        "##########################\n",
        "def Libro_favorito(libro):\n",
        "    print(\"Tú libro favorito es \"+libro.title())\n",
        "Libro_favorito(\"El código Da Vinci\")"
      ],
      "execution_count": null,
      "outputs": [
        {
          "output_type": "stream",
          "text": [
            "Tú libro favorito es El Código Da Vinci\n"
          ],
          "name": "stdout"
        }
      ]
    },
    {
      "cell_type": "markdown",
      "metadata": {
        "id": "DjREpYAU9OpY"
      },
      "source": [
        "## 1.2. Paso de argumentos\n",
        "\n",
        "En ocasiones una fución necesita múltiples parámetros, dentro de Python existen diferentes maneras de pasar los argumentos a una función, el uso y la implementación dependerá de la necesidad del usuario y programador.\n"
      ]
    },
    {
      "cell_type": "markdown",
      "metadata": {
        "id": "rhMsohzM9OpZ"
      },
      "source": [
        "### 1.2.1 Argumentos Posicionales\n",
        "\n",
        "Ejecute las siguientes celdas y observe los resultados"
      ]
    },
    {
      "cell_type": "code",
      "metadata": {
        "id": "FiMHWYhf9OpZ"
      },
      "source": [
        "#########################################\n",
        "# CELDA 3 : Descripción de mascota      #\n",
        "#########################################\n",
        "\n",
        "\n",
        "def descripcion_mascota(tipo_animal, nombre):\n",
        "    \"\"\"Muestra la información de una mascota.\"\"\"\n",
        "    print(\"\\nTengo un(a) \" + tipo_animal + \" como mascota.\")\n",
        "    print(\"Mi \" + tipo_animal +  \" se llama \" + nombre)"
      ],
      "execution_count": null,
      "outputs": []
    },
    {
      "cell_type": "code",
      "metadata": {
        "id": "g0X2gYeH9Opd",
        "outputId": "876900e7-cf5f-4209-c249-ea593845ec93",
        "colab": {
          "base_uri": "https://localhost:8080/",
          "height": 68
        }
      },
      "source": [
        "#########################################\n",
        "# CELDA 4 :                             #\n",
        "#########################################\n",
        "\n",
        "\n",
        "descripcion_mascota(\"perro\",\"Filemon\")"
      ],
      "execution_count": null,
      "outputs": [
        {
          "output_type": "stream",
          "text": [
            "\n",
            "Tengo un(a) perro como mascota.\n",
            "Mi perro se llama Filemon\n"
          ],
          "name": "stdout"
        }
      ]
    },
    {
      "cell_type": "code",
      "metadata": {
        "id": "upABzP_A9Oph",
        "outputId": "57809a3b-cccb-48f2-cb7a-96128a47ec39",
        "colab": {
          "base_uri": "https://localhost:8080/",
          "height": 68
        }
      },
      "source": [
        "#########################################\n",
        "# CELDA 5 :                             #\n",
        "#########################################\n",
        "\n",
        "\n",
        "descripcion_mascota(\"Michi\",\"gato\")"
      ],
      "execution_count": null,
      "outputs": [
        {
          "output_type": "stream",
          "text": [
            "\n",
            "Tengo un(a) Michi como mascota.\n",
            "Mi Michi se llama gato\n"
          ],
          "name": "stdout"
        }
      ]
    },
    {
      "cell_type": "markdown",
      "metadata": {
        "id": "BuYunSCP9Opl"
      },
      "source": [
        "La función se llama $\\verb|descripcion_mascota|$ y se puede observar en su implementación en la *celda 3* observe que recibe dos parámetros que deben de ser de tipo *string*, e imprime la información referente a mascota, en la *celda 4 y 5* se manda a llamar la función y si se observa el resultado de la celda 4 los enunciados muestran coherencia, mientras que en la celda 5 son incoherentes. \n",
        "\n",
        "La diferncia entre las celdas fue el orden de los argumentos, en la celda 4 \"perro\" lo asinga a \"tipo de animal\" y \"Filemon\" lo asigna a nombre, mientras que en la celda 5 \"Michi\" lo asigna \"tipo de animal\", mientras que \"gato\" lo asinga a \"nombre\".\n",
        "\n",
        "A esta forma de mandar los parámetros en los que es de gran importancia el orden en que se mandan los mismos, se le conoce como **Argumentos posicionales**"
      ]
    },
    {
      "cell_type": "markdown",
      "metadata": {
        "id": "jXCyY_rw9Opm"
      },
      "source": [
        "### 1.2.2 Argumentos \"Keyword\"\n",
        "\n",
        "Ejecute la *celda 3* y depués las *celda 6 y 7*"
      ]
    },
    {
      "cell_type": "code",
      "metadata": {
        "id": "4RX0jM5o9Opn",
        "outputId": "e9458857-fd77-461c-ebd9-453c1c0fa2f4",
        "colab": {
          "base_uri": "https://localhost:8080/",
          "height": 68
        }
      },
      "source": [
        "#########################################\n",
        "# CELDA 6 :                             #\n",
        "#########################################\n",
        "\n",
        "\n",
        "descripcion_mascota(tipo_animal = \"hamster\",nombre = \"Harry\")"
      ],
      "execution_count": null,
      "outputs": [
        {
          "output_type": "stream",
          "text": [
            "\n",
            "Tengo un(a) hamster como mascota.\n",
            "Mi hamster se llama Harry\n"
          ],
          "name": "stdout"
        }
      ]
    },
    {
      "cell_type": "code",
      "metadata": {
        "scrolled": true,
        "id": "7xWr3S8r9Opt",
        "outputId": "f3f44bb7-c3a1-4332-97e0-79061842469c",
        "colab": {
          "base_uri": "https://localhost:8080/",
          "height": 68
        }
      },
      "source": [
        "#########################################\n",
        "# CELDA 7 :                             #\n",
        "#########################################\n",
        "\n",
        "\n",
        "descripcion_mascota(nombre = \"Cuco\",tipo_animal = \"Hurón\")"
      ],
      "execution_count": null,
      "outputs": [
        {
          "output_type": "stream",
          "text": [
            "\n",
            "Tengo un(a) Hurón como mascota.\n",
            "Mi Hurón se llama Cuco\n"
          ],
          "name": "stdout"
        }
      ]
    },
    {
      "cell_type": "markdown",
      "metadata": {
        "id": "dBUaWK6m9Opx"
      },
      "source": [
        "Observe que ahora el orden de los argumentos no importa, esto se debe a que desde que se manda a llamar la función se hace la asignación a los variables locales de la función. Es de gran importancia que note que la implementación de la función no cambió en nada, los cambios se deben de hacer al momento de llamar la función."
      ]
    },
    {
      "cell_type": "markdown",
      "metadata": {
        "id": "867bULHk9Opx"
      },
      "source": [
        "## 1.2.3 Valores predeterminados\n",
        "\n",
        "En la definición de las funciones se puede definir valores predeterminados para los parámetros. Si un parámetro se manda desde la llamada de la función Python utiliza el valor que se ha mandado en la invocación de la función y deshecha el predeterminado, sino se ha manda el parámetro desde la llamada de la función entonces se utilizará el valor predeterminado. Observe el código de las celda 8 y ejecute la celda para observar el comportamiento de la misma."
      ]
    },
    {
      "cell_type": "code",
      "metadata": {
        "id": "I9ZeJARh9Opy",
        "outputId": "9f0ca898-b2e8-4f54-ceb8-2720dfdd2b3b",
        "colab": {
          "base_uri": "https://localhost:8080/",
          "height": 68
        }
      },
      "source": [
        "#########################################\n",
        "# CELDA 8 : Valores predeterminados     #\n",
        "#########################################\n",
        "def descripcion_mascota(nombre,tipo_animal = \"perro\"):\n",
        "    \"\"\"Muestra la información de una mascota\"\"\"\n",
        "    print(\"\\nUsted tiene un@ \" + tipo_animal +\".\" )\n",
        "    print(\"Mi \" + tipo_animal + \" se llama \" + nombre.title() +\".\")\n",
        "\n",
        "descripcion_mascota(nombre=\"Orejas\")"
      ],
      "execution_count": null,
      "outputs": [
        {
          "output_type": "stream",
          "text": [
            "\n",
            "Usted tiene un@ perro.\n",
            "Mi perro se llama Orejas.\n"
          ],
          "name": "stdout"
        }
      ]
    },
    {
      "cell_type": "markdown",
      "metadata": {
        "id": "OD7p5I9y9Op2"
      },
      "source": [
        "## 1.3 Ejercicios\n",
        "\n",
        "### 1.3.1 Playera\n",
        "\n",
        "Escriba una función llamanda $\\verb|hacerPlayera()|$ que acepte como argumento, el tamaño y un texto que apararecerá cerigrafeado en la playera. La función deberá imprimir en la terminal algo parecido a lo siguiente\n",
        "\n",
        "*La playera es talla \"Grande\" y el texto a cerigrafear es: \"Hola amigos\"*\n",
        "\n",
        "Para verificar el correcto funcionamiento de la función, genere un programa que la invoque. \n",
        "\n"
      ]
    },
    {
      "cell_type": "code",
      "metadata": {
        "id": "F_KLpoRX9Op3",
        "outputId": "b7eb1782-eabe-4731-9d34-9f9f70fb375d",
        "colab": {
          "base_uri": "https://localhost:8080/",
          "height": 51
        }
      },
      "source": [
        "####  Prgrama de Playeras  ###\n",
        "def hacerPlayera(tamaño,texto):\n",
        "   print(\"\\nLa playera es talla \" + tamaño.title() + \" Y el texto a cerigrafear es: \"  + texto.title() +\"\" \".\")\n",
        "\n",
        "hacerPlayera(tamaño=\"Grande\", texto=\"hola amigos\")    "
      ],
      "execution_count": null,
      "outputs": [
        {
          "output_type": "stream",
          "text": [
            "\n",
            "La playera es talla Grande Y el texto a cerigrafear es: Hola Amigos.\n"
          ],
          "name": "stdout"
        }
      ]
    },
    {
      "cell_type": "markdown",
      "metadata": {
        "id": "8DGQKcKe9Op7"
      },
      "source": [
        "### 1.3.2 Playeras Grandes\n",
        "\n",
        "Modique la función $\\verb|hacerPlayera()|$ de tal manera que las playeras grandes sean predeterminadas y el texto predefinido para la cerigrafear sea $\\verb|yo <3 Python|$.\n",
        "\n",
        "Para verificar el correcto funcionamiento del módulo:\n",
        "\n",
        "1. Genere una playera grande utlizando el texto predeterminado.\n",
        "\n",
        "2. Genere una playera mediana con el texto predeterminado.\n",
        "\n",
        "3. Genere una playera de talla distnta a grande con un texto distinto al predeterminado.\n",
        "\n",
        "\n"
      ]
    },
    {
      "cell_type": "code",
      "metadata": {
        "id": "s5ykIj-Z9Op8"
      },
      "source": [
        "###    Programa de Playeras grandes ###\n",
        "def hacerPlayera(tamaño,texto):\n",
        "   print(\"\\nLa playera es talla \" + tamaño.title() + \" Y el texto a cerigrafear es: \"  + texto.title() +\"\" \".\")\n",
        "\n"
      ],
      "execution_count": null,
      "outputs": []
    },
    {
      "cell_type": "code",
      "metadata": {
        "id": "y2l_4uLSRWCh",
        "outputId": "f6c8ccfa-fccf-40f4-faaf-5a63067cb916",
        "colab": {
          "base_uri": "https://localhost:8080/",
          "height": 51
        }
      },
      "source": [
        "### PLayera Grande ### \n",
        "hacerPlayera(tamaño=\"Grande\" , texto=\"<3 Python\")"
      ],
      "execution_count": null,
      "outputs": [
        {
          "output_type": "stream",
          "text": [
            "\n",
            "La playera es talla Grande Y el texto a cerigrafear es: <3 Python.\n"
          ],
          "name": "stdout"
        }
      ]
    },
    {
      "cell_type": "code",
      "metadata": {
        "id": "VbNCaVduRADi",
        "outputId": "70fe620b-c5b9-49a9-f193-47f9fc3d988f",
        "colab": {
          "base_uri": "https://localhost:8080/",
          "height": 51
        }
      },
      "source": [
        "### PLayera mediana ### \n",
        "hacerPlayera(tamaño=\"Mediana\" , texto=\"<3 Python\")"
      ],
      "execution_count": null,
      "outputs": [
        {
          "output_type": "stream",
          "text": [
            "\n",
            "La playera es talla Mediana Y el texto a cerigrafear es: <3 Python.\n"
          ],
          "name": "stdout"
        }
      ]
    },
    {
      "cell_type": "code",
      "metadata": {
        "id": "BFSEPC9fRMqY",
        "outputId": "e5cea431-fd6e-4f56-e005-61b72aeef2bf",
        "colab": {
          "base_uri": "https://localhost:8080/",
          "height": 51
        }
      },
      "source": [
        "### PLayera chica ### \n",
        "hacerPlayera(tamaño=\"chica\" , texto=\"<3 Python\")"
      ],
      "execution_count": null,
      "outputs": [
        {
          "output_type": "stream",
          "text": [
            "\n",
            "La playera es talla Chica Y el texto a cerigrafear es: <3 Python.\n"
          ],
          "name": "stdout"
        }
      ]
    },
    {
      "cell_type": "markdown",
      "metadata": {
        "id": "IISDnIvl9OqA"
      },
      "source": [
        "### 1.3.2 Países y ciudades\n",
        "\n",
        "Escriba una función llamada $\\verb|descripcionCiudad()|$ que acepte como argumentos el nombre de una ciudad y el nombre de un país como argumentos y que imprima en la terminal un texto como: *Xalapa está en México*, *Río de Janeiro está en Brazil*, *París está en Fracia*. Ponga como valor predeterminado \"México\" a la variable país, y llame a la función tres veces donde por lo menos una ciudad no pertenezca al país México.\n",
        "\n"
      ]
    },
    {
      "cell_type": "code",
      "metadata": {
        "id": "JA_q-jV99OqA"
      },
      "source": [
        "def descripcionCiudad(ciudad,pais=\"Méxco\"):\n",
        "  print( ciudad.title() +\" está en \" + pais.title()  )\n",
        "\n"
      ],
      "execution_count": null,
      "outputs": []
    },
    {
      "cell_type": "code",
      "metadata": {
        "id": "Te9e509GcGfZ",
        "outputId": "6d21a4f4-d2e5-4ad8-f55a-7b0d33a4e41a",
        "colab": {
          "base_uri": "https://localhost:8080/",
          "height": 34
        }
      },
      "source": [
        "descripcionCiudad(ciudad= \"Xalapa\" )"
      ],
      "execution_count": null,
      "outputs": [
        {
          "output_type": "stream",
          "text": [
            "Xalapa está en Méxco\n"
          ],
          "name": "stdout"
        }
      ]
    },
    {
      "cell_type": "code",
      "metadata": {
        "id": "N9U76iJxdHRz",
        "outputId": "f90623b0-375c-4767-cdaa-a1d1c9598c44",
        "colab": {
          "base_uri": "https://localhost:8080/",
          "height": 34
        }
      },
      "source": [
        "descripcionCiudad(ciudad= \"rio\", pais= \"brazil\" )"
      ],
      "execution_count": null,
      "outputs": [
        {
          "output_type": "stream",
          "text": [
            "Rio está en Brazil\n"
          ],
          "name": "stdout"
        }
      ]
    },
    {
      "cell_type": "code",
      "metadata": {
        "id": "9hbd-e6hdNa8",
        "outputId": "cab87c01-888e-418c-b256-37f6744374ee",
        "colab": {
          "base_uri": "https://localhost:8080/",
          "height": 34
        }
      },
      "source": [
        "descripcionCiudad(ciudad= \"París\", pais=\"Francia\" )"
      ],
      "execution_count": null,
      "outputs": [
        {
          "output_type": "stream",
          "text": [
            "París está en Francia\n"
          ],
          "name": "stdout"
        }
      ]
    },
    {
      "cell_type": "markdown",
      "metadata": {
        "id": "A5ql6x-r9OqF"
      },
      "source": [
        "## 1.4 Valores de regreso\n",
        "\n",
        "## 1.4.1 Introducción.\n",
        "Una función no necesariamente tiene que imprimir texto o mostrar la información que recibe, usualmente, existen funciones que reciben argumentos, los procesan y después regresan al programa principal el o los datos modificados, a éstos datos que la función regresa al programa principal se le conoce como **valor de regreso** o **valor de retorno**, observe el código de la siguiente celda y su comportamiento, en la que se calcula el volumen de un cubo."
      ]
    },
    {
      "cell_type": "code",
      "metadata": {
        "id": "CR3anIEn9OqG",
        "outputId": "f2780640-47a3-4179-b824-659f1d8a30b6",
        "colab": {
          "base_uri": "https://localhost:8080/",
          "height": 34
        }
      },
      "source": [
        "def volumenCubo(longitud_lado):\n",
        "    volumen = longitud_lado**3\n",
        "    return volumen\n",
        "\n",
        "print(\"El volumen de un cubo cuyos lados miden 4cm es: \" + str(volumenCubo(4)) + \" cm^3\")\n",
        "\n"
      ],
      "execution_count": null,
      "outputs": [
        {
          "output_type": "stream",
          "text": [
            "El volumen de un cubo cuyos lados miden 4cm es: 64 cm^3\n"
          ],
          "name": "stdout"
        }
      ]
    },
    {
      "cell_type": "markdown",
      "metadata": {
        "id": "DdveUIfr9OqL"
      },
      "source": [
        "Observe que la función $\\verb|volumenCubo(longitud_lado):|$ recibe como argumento un número y dentro de la función eleva ese valor al cubo y lo asigna a la variable local $\\verb|volumen|$ y regresa el valor guardado en $\\verb|volumen|$"
      ]
    },
    {
      "cell_type": "markdown",
      "metadata": {
        "id": "3FZw5OfR9OqM"
      },
      "source": [
        "## 1.5 Almacenando Funciones en Módulo\n",
        "\n",
        "Una ventaja de las funciones es que se pueden almacenar en archivos distintos de tal manera que el archivo principal no esté tan extenso y sea más sencillo de dar mantenimiento y poder depurar los errores, en otros lenguajes de programación como en C y C++ es equivalente las ilbrerías creadas por los usuarios.\n",
        "\n",
        "En la siguiente celda se muestra un ejemplo de una librería en la que se calcula el área y perímetro de la cara de un cubo, el área, perímetro y volumen de un cubo. "
      ]
    },
    {
      "cell_type": "markdown",
      "metadata": {
        "id": "pbX4pZwe9OqM"
      },
      "source": [
        "####       cubo.py     ####\n",
        "def cara_area(lado):\n",
        "\treturn lado**2\n",
        "\n",
        "def cara_perimetro(lado):\n",
        "\treturn lado*4\n",
        "\n",
        "def perimetro(lado):\n",
        "\treturn lado*12\n",
        "\n",
        "def volumen(lado):\n",
        "\treturn lado**3\n",
        "\n",
        "def area(lado):\n",
        "\treturn cara_area(lado)*6\n"
      ]
    },
    {
      "cell_type": "markdown",
      "metadata": {
        "id": "xgL5P1za9OqN"
      },
      "source": [
        "Para agregar una sóla función del módulo que se llama $\\verb|cubo.py|$ sólo basta poner al inicio la siguiente directiva:\n",
        "\n",
        "$\\verb|from cubo import cara_area|$"
      ]
    },
    {
      "cell_type": "code",
      "metadata": {
        "id": "q4xi-Tvv9OqO",
        "outputId": "046c7837-54cb-44ae-8e2c-8eb6d9f798e3",
        "colab": {
          "base_uri": "https://localhost:8080/",
          "height": 333
        }
      },
      "source": [
        "from cubo import cara_area\n",
        "\n",
        "print(\"El área de la cara de un cubo cuyo lado es 2 cm es: \" + str(cara_area(2)))"
      ],
      "execution_count": null,
      "outputs": [
        {
          "output_type": "error",
          "ename": "ModuleNotFoundError",
          "evalue": "ignored",
          "traceback": [
            "\u001b[0;31m---------------------------------------------------------------------------\u001b[0m",
            "\u001b[0;31mModuleNotFoundError\u001b[0m                       Traceback (most recent call last)",
            "\u001b[0;32m<ipython-input-3-94f5161fa9cc>\u001b[0m in \u001b[0;36m<module>\u001b[0;34m()\u001b[0m\n\u001b[0;32m----> 1\u001b[0;31m \u001b[0;32mfrom\u001b[0m \u001b[0mcubo\u001b[0m \u001b[0;32mimport\u001b[0m \u001b[0mcara_area\u001b[0m\u001b[0;34m\u001b[0m\u001b[0;34m\u001b[0m\u001b[0m\n\u001b[0m\u001b[1;32m      2\u001b[0m \u001b[0;34m\u001b[0m\u001b[0m\n\u001b[1;32m      3\u001b[0m \u001b[0mprint\u001b[0m\u001b[0;34m(\u001b[0m\u001b[0;34m\"El área de la cara de un cubo cuyo lado es 2 cm es: \"\u001b[0m \u001b[0;34m+\u001b[0m \u001b[0mstr\u001b[0m\u001b[0;34m(\u001b[0m\u001b[0mcara_area\u001b[0m\u001b[0;34m(\u001b[0m\u001b[0;36m2\u001b[0m\u001b[0;34m)\u001b[0m\u001b[0;34m)\u001b[0m\u001b[0;34m)\u001b[0m\u001b[0;34m\u001b[0m\u001b[0;34m\u001b[0m\u001b[0m\n",
            "\u001b[0;31mModuleNotFoundError\u001b[0m: No module named 'cubo'",
            "",
            "\u001b[0;31m---------------------------------------------------------------------------\u001b[0;32m\nNOTE: If your import is failing due to a missing package, you can\nmanually install dependencies using either !pip or !apt.\n\nTo view examples of installing some common dependencies, click the\n\"Open Examples\" button below.\n\u001b[0;31m---------------------------------------------------------------------------\u001b[0m\n"
          ]
        }
      ]
    },
    {
      "cell_type": "markdown",
      "metadata": {
        "id": "tfF0yZt69OqS"
      },
      "source": [
        "Para agregar todo el módulo, se pueden agregar todas las funciones una por una, sin embargo, si el módulo tiene muchas funciones no resulta muy práctico, para poder agregar todo el módulo se debe de agregar la siguiente directiva\n",
        "\n",
        "$\\verb|from cubo import *|$"
      ]
    },
    {
      "cell_type": "code",
      "metadata": {
        "id": "8oEWmIDM9OqS",
        "outputId": "94c2eaeb-637f-4dde-e91d-af9b11e732d1",
        "colab": {
          "base_uri": "https://localhost:8080/",
          "height": 367
        }
      },
      "source": [
        "from cubo import *\n",
        "\n",
        "print(\"El área de la cara de un cubo cuyo lado es 2 cm es: \" + str(cara_area(2)))\n",
        "\n",
        "print(\"El perímetro de la cara de un cubo de lado de 2cm por lado es: \" + str(cara_perimetro(2)))\n",
        "\n",
        "print(\"El perímetro de un cubo cuyos lados miden 3 cm es:  \" + str(perimetro(3)))\n",
        "\n",
        "print(\"El área de un cubo cuyos lados miden 3 cm es: \" + str(area(3)))\n",
        "\n",
        "print(\"El volumen de un cubo cuyos lados miden 3 cm es: \" + str(volumen(3)))"
      ],
      "execution_count": null,
      "outputs": [
        {
          "output_type": "error",
          "ename": "ModuleNotFoundError",
          "evalue": "ignored",
          "traceback": [
            "\u001b[0;31m---------------------------------------------------------------------------\u001b[0m",
            "\u001b[0;31mModuleNotFoundError\u001b[0m                       Traceback (most recent call last)",
            "\u001b[0;32m<ipython-input-67-243299806ba6>\u001b[0m in \u001b[0;36m<module>\u001b[0;34m()\u001b[0m\n\u001b[0;32m----> 1\u001b[0;31m \u001b[0;32mfrom\u001b[0m \u001b[0mcubo\u001b[0m \u001b[0;32mimport\u001b[0m \u001b[0;34m*\u001b[0m\u001b[0;34m\u001b[0m\u001b[0;34m\u001b[0m\u001b[0m\n\u001b[0m\u001b[1;32m      2\u001b[0m \u001b[0;34m\u001b[0m\u001b[0m\n\u001b[1;32m      3\u001b[0m \u001b[0mprint\u001b[0m\u001b[0;34m(\u001b[0m\u001b[0;34m\"El área de la cara de un cubo cuyo lado es 2 cm es: \"\u001b[0m \u001b[0;34m+\u001b[0m \u001b[0mstr\u001b[0m\u001b[0;34m(\u001b[0m\u001b[0mcara_area\u001b[0m\u001b[0;34m(\u001b[0m\u001b[0;36m2\u001b[0m\u001b[0;34m)\u001b[0m\u001b[0;34m)\u001b[0m\u001b[0;34m)\u001b[0m\u001b[0;34m\u001b[0m\u001b[0;34m\u001b[0m\u001b[0m\n\u001b[1;32m      4\u001b[0m \u001b[0;34m\u001b[0m\u001b[0m\n\u001b[1;32m      5\u001b[0m \u001b[0mprint\u001b[0m\u001b[0;34m(\u001b[0m\u001b[0;34m\"El perímetro de la cara de un cubo de lado de 2cm por lado es: \"\u001b[0m \u001b[0;34m+\u001b[0m \u001b[0mstr\u001b[0m\u001b[0;34m(\u001b[0m\u001b[0mcara_perimetro\u001b[0m\u001b[0;34m(\u001b[0m\u001b[0;36m2\u001b[0m\u001b[0;34m)\u001b[0m\u001b[0;34m)\u001b[0m\u001b[0;34m)\u001b[0m\u001b[0;34m\u001b[0m\u001b[0;34m\u001b[0m\u001b[0m\n",
            "\u001b[0;31mModuleNotFoundError\u001b[0m: No module named 'cubo'",
            "",
            "\u001b[0;31m---------------------------------------------------------------------------\u001b[0;32m\nNOTE: If your import is failing due to a missing package, you can\nmanually install dependencies using either !pip or !apt.\n\nTo view examples of installing some common dependencies, click the\n\"Open Examples\" button below.\n\u001b[0;31m---------------------------------------------------------------------------\u001b[0m\n"
          ]
        }
      ]
    },
    {
      "cell_type": "markdown",
      "metadata": {
        "id": "i5YQuqkZ9OqW"
      },
      "source": [
        "## 1.6 Ejercicios\n",
        "\n",
        "1. Hacer un módulo con las funciones básicas para una calculadora, suma, resta, producto y división, en la función de división si el denomidador es igual a cero debe de volver a leer el valor del denominador hasta que sea distinto de cero (se recomienda utilizar el ciclo while y el condicional if)\n",
        "\n",
        "2. Hacer una función que el usuario introduzca un número y la función debe de desplegar un triángulo de sumas, *Como ejemplo, si el usuario manda  a la función 4 debeía imprimir el siguiente arreglo*\n",
        "\n",
        "+\n",
        "\n",
        "++\n",
        "\n",
        "+++\n",
        "\n",
        "++++\n"
      ]
    },
    {
      "cell_type": "code",
      "metadata": {
        "id": "FKrandI59OqX",
        "outputId": "0c71a8d0-fac7-4678-93b2-957f4dc92902",
        "colab": {
          "base_uri": "https://localhost:8080/"
        }
      },
      "source": [
        "\n",
        "def datos(): \n",
        "  global a,b \n",
        "  a = int(input(\" Numero \"))\n",
        "  b = int(input(\" Numero \"))   \n",
        "datos()"
      ],
      "execution_count": null,
      "outputs": [
        {
          "output_type": "stream",
          "text": [
            " Numero 4\n",
            " Numero 7\n"
          ],
          "name": "stdout"
        }
      ]
    },
    {
      "cell_type": "code",
      "metadata": {
        "id": "VkxpeBP1qjAt",
        "outputId": "cbf78128-7d1f-488a-a098-a8cb4952f6b8",
        "colab": {
          "base_uri": "https://localhost:8080/"
        }
      },
      "source": [
        "def suma():\n",
        "  print(\"la Suama del numero \", a , \"el numero \" , b , \" es: \" , a + b , ) \n",
        "suma()"
      ],
      "execution_count": null,
      "outputs": [
        {
          "output_type": "stream",
          "text": [
            "la Suama del numero  4 el numero  6  es:  10\n"
          ],
          "name": "stdout"
        }
      ]
    },
    {
      "cell_type": "code",
      "metadata": {
        "id": "oXGieN4qiE7T",
        "outputId": "09ff1c2a-0ab8-4deb-d2cf-ffa32f56411c",
        "colab": {
          "base_uri": "https://localhost:8080/"
        }
      },
      "source": [
        "def resta():\n",
        "   print(\"la resta del numero \", a , \"el numero \" , b , \" es: \" , a-b, )\n",
        "resta()"
      ],
      "execution_count": null,
      "outputs": [
        {
          "output_type": "stream",
          "text": [
            "la resta del numero  4 el numero  6  es:  -2\n"
          ],
          "name": "stdout"
        }
      ]
    },
    {
      "cell_type": "code",
      "metadata": {
        "id": "3yfhthKJrGcW",
        "outputId": "511b5d09-21d4-4208-899e-539d066fc329",
        "colab": {
          "base_uri": "https://localhost:8080/"
        }
      },
      "source": [
        "def multiplicacion():\n",
        "  print(\"la Multiplicacion del numero \", a , \"el numero \" , b , \" es: \" , a*b, )\n",
        "multiplicacion()"
      ],
      "execution_count": null,
      "outputs": [
        {
          "output_type": "stream",
          "text": [
            "la Multiplicacion del numero  4 el numero  0  es:  0\n"
          ],
          "name": "stdout"
        }
      ]
    },
    {
      "cell_type": "code",
      "metadata": {
        "id": "4qEZn32irV0q",
        "outputId": "89e23b38-fc4a-412f-cafe-bbb74982b17c",
        "colab": {
          "base_uri": "https://localhost:8080/"
        }
      },
      "source": [
        "def division():\n",
        "     print(\"la division del numero \", a , \"el numero \" , b , \" es: \" , a/b, )\n",
        "     \n",
        "division()\n",
        "\n",
        "    "
      ],
      "execution_count": null,
      "outputs": [
        {
          "output_type": "stream",
          "text": [
            "la division del numero  4 el numero  7  es:  0.5714285714285714\n"
          ],
          "name": "stdout"
        }
      ]
    },
    {
      "cell_type": "code",
      "metadata": {
        "id": "uLOF9TAbjuJT",
        "outputId": "43c02727-55b4-4742-b34b-4d51709365ca",
        "colab": {
          "base_uri": "https://localhost:8080/"
        }
      },
      "source": [
        "#########################################\n",
        "# Triangulo #\n",
        "#########################################\n",
        "def triangulo(n):\n",
        "    \"\"\" Triangulo rectangulo \"\"\"\n",
        "    return \"\\n\".join([\"*\"*i for i in range(1,n+1)])\n",
        " \n",
        "numero=int(input(\"Inserta un numero: \"))\n",
        "print(triangulo(numero))"
      ],
      "execution_count": null,
      "outputs": [
        {
          "output_type": "stream",
          "text": [
            "Inserta un numero: 8\n",
            "*\n",
            "**\n",
            "***\n",
            "****\n",
            "*****\n",
            "******\n",
            "*******\n",
            "********\n"
          ],
          "name": "stdout"
        }
      ]
    }
  ]
}